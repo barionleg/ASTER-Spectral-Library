{
 "cells": [
  {
   "cell_type": "markdown",
   "metadata": {},
   "source": [
    "Convert existing ASTER spectral library files to ECOSTRESS Spectral library files\n",
    "Owner: Susan Meerdink   \n",
    "Creation Date: 10/9/17   \n",
    "https://github.com/susanmeerdink/ASTER-Spectral-Library   \n",
    "This file converts existing ASTER spectral library files to the new ECOSTRESS spectral library format. The existing ASTER files have many different format types including: \n",
    "1. No leading space and one space between wavelength and spectrum\n",
    "2. Leading space and tab in between wavelength and spectrum\n",
    "3. No leading space and tab in between wavelength and spectrum"
   ]
  },
  {
   "cell_type": "code",
   "execution_count": 1,
   "metadata": {
    "collapsed": true
   },
   "outputs": [],
   "source": [
    "# Import Functions\n",
    "import numpy as np\n",
    "import os\n",
    "import glob\n",
    "from shutil import copyfile"
   ]
  },
  {
   "cell_type": "code",
   "execution_count": 2,
   "metadata": {},
   "outputs": [],
   "source": [
    "def read_aster_file(filename):\n",
    "    \"\"\"\n",
    "    Function for reading in existing ASTER spectral library file.\n",
    "    This function formats the metadata fields into then new format, but \n",
    "    does not format spectra\n",
    "    \n",
    "    Parameters:\n",
    "    -----------\n",
    "    1) filename: The filename for one ASTER spectral library text file\n",
    "    \n",
    "    Returns:\n",
    "    --------\n",
    "    1) arrayNewMeta: string array that contains 20 rows with each row a new metadata field pulled from aster file\n",
    "    2) arrayNewSpec: string array that contains two columns, the first being wavelength and the second reflectance\n",
    "    \"\"\"\n",
    "    inFile = open(filename, 'r')  # Open ASD spectra file\n",
    "    numRow = 0  # Keeps a counter of the number of rows \n",
    "    arrayOrig = []  # empty array to hold file data\n",
    "    arrayNewMeta = ['s', 's', 's', 's', 's', 's', 's']  # empty array to hold newly formatted data\n",
    "    arrayNewSpec = []  # empty array to hold spectra\n",
    "    \n",
    "    # Loop through file and pull out every line\n",
    "    for line in inFile:\n",
    "        if numRow < 26:\n",
    "            arrayOrig.append(line.rstrip('\\n'))\n",
    "        else:\n",
    "            numLine = line.rstrip('\\n').split()\n",
    "            arrayNewSpec.append(numLine)\n",
    "        numRow += 1\n",
    "    \n",
    "    # Edit metadata to fit new formatting\n",
    "    arrayNewMeta[0:8] = arrayOrig[0:8]\n",
    "    # Some files have an additional line of metadata to ignore that is called Collected By:\n",
    "    if 'Collected' in arrayOrig[9]:  \n",
    "        arrayNewMeta.append(arrayOrig[8])\n",
    "    else:\n",
    "        arrayNewMeta.append(arrayOrig[8] + arrayOrig[9])  # Combine the two origin lines into one\n",
    "    arrayNewMeta.append('Collection Date: N/A')  # Add in new line for collection date\n",
    "    arrayNewMeta.append(arrayOrig[10] + arrayOrig[11] + arrayOrig[12] + \\\n",
    "                        arrayOrig[13] + arrayOrig[14] + arrayOrig[15])\n",
    "    arrayNewMeta[11:19] = arrayOrig[16:25]\n",
    "    # Some files do not have the appropriate ancillary data filename, replace with accuracte filename\n",
    "    if filename in arrayOrig[25]:\n",
    "        arrayNewMeta[19] = arrayOrig[25]\n",
    "    else:\n",
    "        newname = os.path.basename(filename)\n",
    "        arrayNewMeta[19] = 'Additional Information: ' + str.replace(newname, 'spectrum', 'ancillary')\n",
    "        \n",
    "    return arrayNewMeta, arrayNewSpec"
   ]
  },
  {
   "cell_type": "code",
   "execution_count": 3,
   "metadata": {},
   "outputs": [],
   "source": [
    "def format_spec(origSpec):\n",
    "    \"\"\"\n",
    "    This function formats the aster spectral library spectra into the ecostress\n",
    "    spectral library format. \n",
    "    \n",
    "    Parameters:\n",
    "    -----------\n",
    "    1) origSpec: string array that contains two columns, the first being wavelength and the second reflectance\n",
    "    \n",
    "    Returns:\n",
    "    --------\n",
    "    1) arraySpec: a numpy array of strings that have only three decimal points for values\n",
    "    \"\"\" \n",
    "    arraySpec = np.chararray([len(origSpec), 2], itemsize=6)\n",
    "\n",
    "    # Loop through columns (wavelengths then reflectance)\n",
    "    for c in [0, 1]:     \n",
    "        # Loop through rows\n",
    "        for i in range(len(origSpec)):\n",
    "            if len(origSpec[i]) > 0:\n",
    "                tempNum = round(float(origSpec[i][c]), 3)  # Convert to float and round to three decimal places\n",
    "\n",
    "                # If the number is greater than 9 don't add leading space\n",
    "                if tempNum >= 10:  \n",
    "                    if len(str(tempNum)) < 6:\n",
    "                        if 6 - len(str(tempNum)) == 3:\n",
    "                            tempStr = str(tempNum) + \"000\"\n",
    "                        elif 6 - len(str(tempNum)) == 2:\n",
    "                            tempStr = str(tempNum) + \"00\"\n",
    "                        else:\n",
    "                            tempStr = str(tempNum) + \"0\"\n",
    "                    else:\n",
    "                        tempStr = str(tempNum)\n",
    "                 # If the number is less than 10 add a leading space\n",
    "                else: \n",
    "                    if len(str(tempNum)) < 5:\n",
    "                        if 5 - len(str(tempNum)) == 3:\n",
    "                            tempStr = \" \" + str(tempNum) + \"000\"\n",
    "                        elif 5 - len(str(tempNum)) == 2:\n",
    "                            tempStr = \" \" + str(tempNum) + \"00\"\n",
    "                        else:\n",
    "                            tempStr = \" \" + str(tempNum) + \"0\"\n",
    "                    else: \n",
    "                        tempStr = \" \" + str(tempNum)\n",
    "                arraySpec[i, c] = tempStr\n",
    "  \n",
    "    return arraySpec"
   ]
  },
  {
   "cell_type": "code",
   "execution_count": 4,
   "metadata": {},
   "outputs": [],
   "source": [
    "def write_ecostress_file(currentDir, outDir, filename):\n",
    "    \"\"\"\n",
    "    This function will process a single ASTER text file and output a single\n",
    "    ECOSTRESS text file. \n",
    "    \n",
    "    Parameters:\n",
    "    -----------\n",
    "    1) outDir: a file path for the folder that the output file will be located\n",
    "    2) currentDir: a file path for the folder that input file is located\n",
    "    2) filename: The filename for one ASTER spectral library text file\n",
    "    \n",
    "    Output File:\n",
    "    ------------\n",
    "    1) Outputs a text file containing the metadata, ASD, and Nicolet spectra for one sample.\n",
    "    See readme for formatting information.\n",
    "    \"\"\"\n",
    "    meta, specOrig = read_aster_file(currentDir + filename)\n",
    "    spec = format_spec(specOrig)\n",
    "    \n",
    "    outFile = open(outDir + filename, 'w')  # open new file for output\n",
    "    \n",
    "    # Loop through metadata\n",
    "    for i in range(len(meta)):\n",
    "        outFile.write(meta[i] + '\\n')\n",
    "    \n",
    "    outFile.write('\\n')  # Add one empty line between metadata and spectra\n",
    "    \n",
    "    # Loop through spectra\n",
    "    for j in range(len(spec)):\n",
    "        outFile.write(spec[j, 0] + '\\t' + spec[j, 1] + '\\n')\n",
    "    \n",
    "    outFile.close()  # Close file   "
   ]
  },
  {
   "cell_type": "code",
   "execution_count": 5,
   "metadata": {
    "collapsed": true
   },
   "outputs": [],
   "source": [
    "def convert_aster_files(currentDir, outDir):\n",
    "    \"\"\"\n",
    "    This function finds all the ASTER text files in a folder and calls the \n",
    "    write_ecostress_file to format them into ECOSTRESS text files.\n",
    "    \n",
    "    Parameters:\n",
    "    -----------\n",
    "    1) outDir: a file path for the folder that the output file will be located\n",
    "    2) currentDir: a file path for the folder that input file is located\n",
    "    \"\"\"\n",
    "    os.chdir(currentDir) # Set this to the current directory\n",
    "    filelist = []\n",
    "    count = 0\n",
    "    error = 0\n",
    "    copy = 0\n",
    "    \n",
    "    # Find all the ASTER text files in directory\n",
    "    for file in glob.glob(\"*.spectrum.txt\"):\n",
    "        # print(\"Processing %s\" %file)\n",
    "        try:\n",
    "            write_ecostress_file(currentDir, outDir, file)\n",
    "            count += 1\n",
    "        except:\n",
    "            copyfile(file, currentDir + 'Error Files\\\\' + file)\n",
    "            print('Error processing %s' %file)\n",
    "            error += 1\n",
    "            continue\n",
    "    \n",
    "    # Find all the ASTER ancillary text files in directory\n",
    "    for file in glob.glob(\"*.ancillary.txt\"):\n",
    "        copyfile(file, outDir + file)\n",
    "        copy += 1\n",
    "    \n",
    "    print(\"%i ASTER spectrum files formatted to ECOSTRESS files\" %count)\n",
    "    print(\"%i ASTER ancillary files copied to new directory\" %copy)\n",
    "    print(\"%i errors while formatting ASTER files\" %error)"
   ]
  },
  {
   "cell_type": "code",
   "execution_count": 6,
   "metadata": {},
   "outputs": [
    {
     "name": "stdout",
     "output_type": "stream",
     "text": [
      "4 ASTER spectrum files formatted to ECOSTRESS files\n",
      "2 ASTER ancillary files copied to new directory\n",
      "0 errors while formatting ASTER files\n"
     ]
    }
   ],
   "source": [
    "# Example Files\n",
    "directory = \"C:\\\\Users\\\\Susan\\\\Documents\\\\GitHub\\\\ASTER-Spectral-Library\\\\\"\n",
    "inDir = directory + \"Example Inputs\\\\\"\n",
    "outDir = directory + \"Example Outputs\\\\\"\n",
    "\n",
    "convert_aster_files(inDir, outDir)"
   ]
  },
  {
   "cell_type": "code",
   "execution_count": 7,
   "metadata": {},
   "outputs": [
    {
     "name": "stdout",
     "output_type": "stream",
     "text": [
      "2445 ASTER spectrum files formatted to ECOSTRESS files\n",
      "2145 ASTER ancillary files copied to new directory\n",
      "0 errors while formatting ASTER files\n"
     ]
    }
   ],
   "source": [
    "# Processing ASTER Spectral Library Files\n",
    "directory = \"F:\\\\Dropbox\\\\Analysis\\\\ECOSTRESS Spectral Library\\\\\"\n",
    "inDir = directory + \"ASTER Spectral Library Files\\\\\"\n",
    "outDir = directory + \"ECOSTRESS Spectral Library Files\\\\\"\n",
    "\n",
    "convert_aster_files(inDir, outDir)"
   ]
  },
  {
   "cell_type": "code",
   "execution_count": null,
   "metadata": {
    "collapsed": true
   },
   "outputs": [],
   "source": []
  }
 ],
 "metadata": {
  "kernelspec": {
   "display_name": "Python 2",
   "language": "python",
   "name": "python2"
  },
  "language_info": {
   "codemirror_mode": {
    "name": "ipython",
    "version": 2
   },
   "file_extension": ".py",
   "mimetype": "text/x-python",
   "name": "python",
   "nbconvert_exporter": "python",
   "pygments_lexer": "ipython2",
   "version": "2.7.14"
  }
 },
 "nbformat": 4,
 "nbformat_minor": 2
}
