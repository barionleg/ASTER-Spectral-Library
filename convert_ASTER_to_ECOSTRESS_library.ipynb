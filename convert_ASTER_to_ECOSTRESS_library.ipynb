{
 "cells": [
  {
   "cell_type": "markdown",
   "metadata": {},
   "source": [
    "Convert existing ASTER spectral library files to ECOSTRESS Spectral library files\n",
    "Owner: Susan Meerdink   \n",
    "Creation Date: 10/9/17   \n",
    "https://github.com/susanmeerdink/ASTER-Spectral-Library   \n",
    "This file converts existing ASTER spectral library files to the new ECOSTRESS spectral library format. The existing ASTER files have many different format types including: \n",
    "1. No leading space and one space between wavelength and spectrum\n",
    "2. Leading space and tab in between wavelength and spectrum\n",
    "3. No leading space and tab in between wavelength and spectrum"
   ]
  },
  {
   "cell_type": "code",
   "execution_count": 1,
   "metadata": {
    "collapsed": true
   },
   "outputs": [],
   "source": [
    "# Import Functions\n",
    "import numpy as np"
   ]
  },
  {
   "cell_type": "code",
   "execution_count": 16,
   "metadata": {},
   "outputs": [],
   "source": [
    "def read_file(filename):\n",
    "    \"\"\"\n",
    "    Function for reading in existing ASTER spectral library file.\n",
    "    This function formats the metadata fields into then new format, but \n",
    "    does not format spectra\n",
    "    \n",
    "    Parameters:\n",
    "    -----------\n",
    "    1) filename: The filename for one ASTER spectral library text file\n",
    "    \n",
    "    Returns:\n",
    "    --------\n",
    "    1) array: numpy array that contains the parsed file info\n",
    "    2) header: string array containing the names\n",
    "    \"\"\"\n",
    "    inFile = open(filename, 'r')  # Open ASD spectra file\n",
    "    numRow = 0  # Keeps a counter of the number of rows \n",
    "    arrayOrig = []  # empty array to hold file data\n",
    "    arrayNewMeta = ['s', 's', 's', 's', 's', 's', 's']  # empty array to hold newly formatted data\n",
    "    arrayNewSpec = []  # empty array to hold spectra\n",
    "    \n",
    "    # Loop through file and pull out every line\n",
    "    for line in inFile:\n",
    "        if numRow < 26:\n",
    "            arrayOrig.append(line.rstrip('\\n'))\n",
    "        else:\n",
    "            numLine = line.rstrip('\\n').split()\n",
    "            arrayNewSpec.append(numLine)\n",
    "        numRow += 1\n",
    "    \n",
    "    # Edit metadata to fit new formatting\n",
    "    arrayNewMeta[0:8] = arrayOrig[0:8]\n",
    "    arrayNewMeta.append(arrayOrig[8] + arrayOrig[9])  # Combine the two origin lines into one\n",
    "    arrayNewMeta.append('Collection Date: N/A')  # Add in new line for collection date\n",
    "    arrayNewMeta.append(arrayOrig[10] + arrayOrig[11] + arrayOrig[12] + \\\n",
    "                        arrayOrig[13] + arrayOrig[14] + arrayOrig[15])\n",
    "    arrayNewMeta[11:19] = arrayOrig[16:25]\n",
    "    \n",
    "    return arrayNewMeta, arrayNewSpec"
   ]
  },
  {
   "cell_type": "code",
   "execution_count": 18,
   "metadata": {},
   "outputs": [],
   "source": [
    "directory = \"C:\\\\Users\\\\Susan\\\\Documents\\\\GitHub\\\\ASTER-Spectral-Library\\\\\"\n",
    "filename = directory + \"jhu.becknic.soil.alfisol.paleustalf.coarse.87P2376.spectrum.txt\"\n",
    "meta, spec = read_file(filename)"
   ]
  },
  {
   "cell_type": "code",
   "execution_count": null,
   "metadata": {
    "collapsed": true
   },
   "outputs": [],
   "source": []
  }
 ],
 "metadata": {
  "kernelspec": {
   "display_name": "Python 2",
   "language": "python",
   "name": "python2"
  },
  "language_info": {
   "codemirror_mode": {
    "name": "ipython",
    "version": 2
   },
   "file_extension": ".py",
   "mimetype": "text/x-python",
   "name": "python",
   "nbconvert_exporter": "python",
   "pygments_lexer": "ipython2",
   "version": "2.7.14"
  }
 },
 "nbformat": 4,
 "nbformat_minor": 2
}
