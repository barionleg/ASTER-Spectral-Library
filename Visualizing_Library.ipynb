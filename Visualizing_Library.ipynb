{
 "cells": [
  {
   "cell_type": "markdown",
   "metadata": {},
   "source": [
    "This code is to visualize the spectral library results   \n",
    "Owner: Susan Meerdink   \n",
    "Creation Date: 10/12/17  \n"
   ]
  },
  {
   "cell_type": "code",
   "execution_count": 1,
   "metadata": {
    "collapsed": true
   },
   "outputs": [],
   "source": [
    "# Import Functions\n",
    "import numpy as np\n",
    "import matplotlib.pyplot as plt\n",
    "import glob"
   ]
  },
  {
   "cell_type": "code",
   "execution_count": 2,
   "metadata": {
    "collapsed": true
   },
   "outputs": [],
   "source": [
    "# Read in vegetation spectra\n",
    "directory = \"F:\\\\Dropbox\\\\Analysis\\\\ECOSTRESS Spectral Library\\\\Input Spectral Library Files\\\\\"\n",
    "\n",
    "specASD = np.array(np.arange(0.35, 2.5001, 0.001))\n",
    "specNic = np.array(np.arange(0, 1737, 1))\n",
    "\n",
    "# Read through ASD spectra files\n",
    "for file in glob.glob(directory + \"HyspIRI_Spectra_ASD.csv\"):\n",
    "    specASD = np.loadtxt(file, delimiter=\",\",  usecols=np.arange(1,2152))\n",
    "\n",
    "# Read through Nicolet spectra files\n",
    "for file in glob.glob(directory + \"HyspIRI_Spectra_Nicolet.csv\"):\n",
    "    wave = np.loadtxt(file, delimiter=\",\", usecols=np.arange(1,1737))\n",
    "    specNic = np.loadtxt(file, delimiter=\",\", usecols=np.arange(1,1737))\n",
    "\n",
    "for file in glob.glob(directory + 'HyspIRI_Metadata.csv'):\n",
    "    inFile = open(file, 'r')  # Open ASD spectra file\n",
    "    meta = inFile.readlines()\n",
    "\n",
    "for file in glob.glob(directory + 'HyspIRI_Ancillary.csv'):\n",
    "    inFile = open(file, 'r') \n",
    "    anc = inFile.readlines()\n",
    "\n",
    "specASD = np.delete(specASD, 0, 0)\n",
    "specNic = np.delete(specNic, 0, 0)\n",
    "specNic[specNic==-9999] = np.nan"
   ]
  },
  {
   "cell_type": "code",
   "execution_count": 3,
   "metadata": {},
   "outputs": [
    {
     "name": "stdout",
     "output_type": "stream",
     "text": [
      "[[  92.     56.11]\n",
      " [ 186.     33.33]\n",
      " [ 286.     20.95]\n",
      " [ 289.     10.12]]\n"
     ]
    }
   ],
   "source": [
    "sale = []\n",
    "\n",
    "for i in range(1, len(anc)):\n",
    "    line = anc[i].split(',')\n",
    "    # if 'douglasii' in line[5]:\n",
    "    if 'VH290' in line[6] or 'VH287' in line[6] or 'VH187' in line[6] or 'VH093' in line[6]:\n",
    "        chem = line[8].split(';')\n",
    "        waterstr = chem[-1]\n",
    "        waternum = str.replace(waterstr, 'Water Content:', '')\n",
    "        waternum = float(str.replace(waternum, '%', ''))\n",
    "        sale.append([i-1, waternum])\n",
    "\n",
    "sale = np.array(sale)\n",
    "sale[sale[:, 1].argsort()]\n",
    "print(sale)\n",
    "\n",
    "# Plot Characteristics\n",
    "font = {'size'   : 14}\n",
    "plt.rc('font', **font)\n",
    "color = ['#969696', '#000000', '#969696', '#000000']  # '#525252','#cccccc', '#969696', color = ['xkcd:green', 'xkcd:blue', 'xkcd:orange', 'xkcd:red']  # 'xkcd:lightgreen',\n",
    "line = ['--','--','-','-']\n",
    "\n",
    "# Plot SALE\n",
    "plt.figure(num=10, figsize=[4, 3.5])\n",
    "# plt.subplot(1,2,1)\n",
    "for a in range(0, len(sale)):\n",
    "    plt.plot(np.arange(0.35, 2.501, 0.001), specASD[int(sale[a][0]), :], color=color[a], linestyle=line[a])\n",
    "\n",
    "plt.xlabel('Wavelength ($\\mu$m)' , fontsize='large')\n",
    "plt.ylabel('Reflectance (%)', fontsize='large')\n",
    "plt.axis([0.35, 2.5, 0, 60])\n",
    "plt.savefig('F:\\Dropbox\\Manuscript\\The EcoSTRESS Spectral Library\\Figures\\sale_watercontent_VSWIR.png', dpi=600,bbox_inches='tight')\n",
    "\n",
    "# plt.subplot(1,2,2)\n",
    "plt.figure(num=20, figsize=[6, 3.5])\n",
    "for n in range(0, len(sale)):\n",
    "    plt.plot(wave[0,range(0,1740,10)], specNic[int(sale[n][0]), range(0,1740,10)], color=color[n], linestyle=line[n])\n",
    "\n",
    "plt.axis([2.5, 15, 0, 35])\n",
    "plt.xlabel('Wavelength ($\\mu$m)' , fontsize='large')\n",
    "plt.text(10,31, 'Salvia leucophylla', style='italic')\n",
    "plt.legend((sale[0][1], sale[1][1], sale[2][1], sale[3][1]), title='Water Content', bbox_to_anchor=(1.01, 1), loc='upper left')  # \n",
    "#plt.show()\n",
    "plt.savefig('F:\\Dropbox\\Manuscript\\The EcoSTRESS Spectral Library\\Figures\\sale_watercontent_TIR.png', dpi=600,bbox_inches='tight')"
   ]
  },
  {
   "cell_type": "code",
   "execution_count": null,
   "metadata": {},
   "outputs": [],
   "source": [
    "# Read in vegetation spectra\n",
    "directory = \"F:\\\\Dropbox\\\\Analysis\\\\ECOSTRESS Spectral Library\\\\Input Spectral Library Files\\\\\"\n",
    "\n",
    "specASD = np.array(np.arange(0.35, 2.5001, 0.001))\n",
    "specNic = np.array(np.arange(0, 1737, 1))\n",
    "\n",
    "# Read through ASD spectra files\n",
    "for file in glob.glob(directory + \"*Spectra_ASD.csv\"):\n",
    "    if 'Misc' not in file:\n",
    "        print(file)\n",
    "        temp = np.loadtxt(file, delimiter=\",\", skiprows=1, usecols=np.arange(1,2152))\n",
    "        specASD = np.vstack((specASD, temp))\n",
    "\n",
    "# Read through Nicolet spectra files\n",
    "for file in glob.glob(directory + \"*Spectra_Nicolet.csv\"):\n",
    "    wave = np.loadtxt(file, delimiter=\",\", usecols=np.arange(1,1737))\n",
    "    \n",
    "    if 'Misc' not in file:\n",
    "        print(file)\n",
    "        temp = np.loadtxt(file, delimiter=\",\", skiprows=1, usecols=np.arange(1,1737))\n",
    "        specNic = np.vstack((specNic, temp))\n",
    "\n",
    "for file in glob.glob(directory + 'HyspIRI_Metadata.csv'):\n",
    "    inFile = open(filename, 'r')  # Open ASD spectra file\n",
    "    meta = inFiles.readlines()\n",
    "\n",
    "specASD = np.delete(specASD, 0, 0)\n",
    "specNic = np.delete(specNic, 0, 0)\n",
    "specNic[specNic==-9999] = np.nan"
   ]
  },
  {
   "cell_type": "code",
   "execution_count": 4,
   "metadata": {},
   "outputs": [
    {
     "name": "stdout",
     "output_type": "stream",
     "text": [
      "[[  80.     62.03]\n",
      " [ 173.     49.22]\n",
      " [ 277.     43.89]\n",
      " [ 273.     29.75]]\n"
     ]
    }
   ],
   "source": [
    "qudo = []\n",
    "\n",
    "for i in range(1, len(anc)):\n",
    "    line = anc[i].split(',')\n",
    "    if 'VH274' in line[6] or 'VH278' in line[6] or 'VH081' in line[6] or 'VH174' in line[6]:\n",
    "        chem = line[8].split(';')\n",
    "        waterstr = chem[-1]\n",
    "        waternum = str.replace(waterstr, 'Water Content:', '')\n",
    "        waternum = float(str.replace(waternum, '%', ''))\n",
    "        qudo.append([i-1, waternum])\n",
    "\n",
    "qudo = np.array(qudo)\n",
    "qudo = qudo[(0,1,3,2),:]\n",
    "print(qudo)\n",
    "\n",
    "# Plot Characteristics\n",
    "font = {'size'   : 14}\n",
    "plt.rc('font', **font)\n",
    "color = ['#969696', '#000000', '#969696', '#000000']\n",
    "line = ['--','--','-','-']\n",
    "\n",
    "# Plot QUDO\n",
    "plt.figure(num=30, figsize=[4, 3.5])\n",
    "for a in range(0, len(qudo)):\n",
    "    plt.plot(np.arange(0.35, 2.501, 0.001), specASD[int(qudo[a][0]), :], color=color[a], linestyle=line[a])\n",
    "\n",
    "plt.xlabel('Wavelength ($\\mu$m)' , fontsize='large')\n",
    "plt.ylabel('Reflectance (%)' , fontsize='large')\n",
    "plt.axis([0.35, 2.5, 0, 60])\n",
    "plt.savefig('F:\\Dropbox\\Manuscript\\The EcoSTRESS Spectral Library\\Figures\\qudo_watercontent_VSWIR.png', dpi=600,bbox_inches='tight')\n",
    "\n",
    "plt.figure(num=40, figsize=[6, 3.5])\n",
    "for n in range(0, len(qudo)):\n",
    "    plt.plot(wave[0,range(0,1740,10)], specNic[int(qudo[n][0]), range(0,1740,10)], color=color[n], linestyle=line[n])\n",
    "\n",
    "plt.axis([2.5, 15, 0, 20])\n",
    "plt.text(10,18, 'Quercus douglasii', style='italic')\n",
    "plt.xlabel('Wavelength ($\\mu$m)' , fontsize='large')\n",
    "plt.legend((qudo[:, 1]), title = 'Water Content', bbox_to_anchor=(1.01, 1), loc='upper left')\n",
    "#plt.show()\n",
    "plt.savefig('F:\\Dropbox\\Manuscript\\The EcoSTRESS Spectral Library\\Figures\\qudo_watercontent_TIR.png', dpi=600,bbox_inches='tight')"
   ]
  },
  {
   "cell_type": "code",
   "execution_count": null,
   "metadata": {},
   "outputs": [],
   "source": [
    "# Plot Vegetation Spectra\n",
    "font = {'size'   : 16}\n",
    "plt.rc('font', **font)\n",
    "\n",
    "plt.figure(num=1, figsize=[10, 3.5])\n",
    "plt.subplot(1,2,1)\n",
    "plt.plot(np.arange(0.35, 2.501, 0.001), specASD.min(axis=0))\n",
    "plt.plot(np.arange(0.35, 2.501, 0.001), specASD.mean(axis=0))\n",
    "plt.plot(np.arange(0.35, 2.501, 0.001), specASD.max(axis=0))\n",
    "plt.xlabel('Wavelength')\n",
    "plt.ylabel('Reflectance')\n",
    "plt.axis([0.35, 2.5, 0, 100])\n",
    "\n",
    "plt.subplot(1,2,2)\n",
    "plt.plot(wave[0,:], np.nanmin(specNic, axis=0))\n",
    "plt.plot(wave[0,:], np.nanmean(specNic, axis=0))\n",
    "plt.plot(wave[0,:], np.nanmax(specNic, axis=0))\n",
    "plt.axis([2.5, 15.4, 0, 40])\n",
    "plt.legend(('Minimum', 'Mean', 'Maximum'))\n",
    "plt.xlabel('Wavelength')\n",
    "plt.show()"
   ]
  },
  {
   "cell_type": "code",
   "execution_count": null,
   "metadata": {},
   "outputs": [],
   "source": [
    "# Read in NPV spectra\n",
    "# Read in vegetation spectra\n",
    "directory = \"F:\\\\Dropbox\\\\Analysis\\\\ECOSTRESS Spectral Library\\\\Input Spectral Library Files\\\\\"\n",
    "\n",
    "specASD = np.array(np.arange(0.35, 2.5001, 0.001))\n",
    "specNic = np.array(np.arange(0, 1737, 1))\n",
    "\n",
    "# Read through ASD spectra files\n",
    "for file in glob.glob(directory + \"*Spectra_ASD.csv\"):\n",
    "    if 'NPV_Misc' in file:\n",
    "        print(file)\n",
    "        temp = np.loadtxt(file, delimiter=\",\", skiprows=1, usecols=np.arange(1,2152))\n",
    "        specASD = np.vstack((specASD, temp))\n",
    "\n",
    "# Read through Nicolet spectra files\n",
    "for file in glob.glob(directory + \"*Spectra_Nicolet.csv\"):\n",
    "    if 'NPV_Misc' in file:\n",
    "        print(file)\n",
    "        temp = np.loadtxt(file, delimiter=\",\", skiprows=1, usecols=np.arange(1,1738))\n",
    "        specNic = np.vstack((specNic, temp))\n",
    "\n",
    "specASD = np.delete(specASD, 0, 0)\n",
    "specNic = np.delete(specNic, 0, 0)\n",
    "specNic[specNic==-9999] = np.nan\n"
   ]
  },
  {
   "cell_type": "code",
   "execution_count": null,
   "metadata": {},
   "outputs": [],
   "source": [
    "# Plot NPV\n",
    "font = {'size'   : 16}\n",
    "plt.rc('font', **font)\n",
    "\n",
    "plt.figure(num=1, figsize=[10, 3.5])\n",
    "plt.subplot(1,2,1)\n",
    "plt.plot(np.arange(0.35, 2.501, 0.001), specASD.min(axis=0))\n",
    "plt.plot(np.arange(0.35, 2.501, 0.001), specASD.mean(axis=0))\n",
    "plt.plot(np.arange(0.35, 2.501, 0.001), specASD.max(axis=0))\n",
    "plt.xlabel('Wavelength')\n",
    "plt.ylabel('Reflectance')\n",
    "plt.axis([0.35, 2.5, 0, 105])\n",
    "\n",
    "plt.subplot(1,2,2)\n",
    "plt.plot(wave[0,:], np.nanmin(specNic, axis=0))\n",
    "plt.plot(wave[0,:], np.nanmean(specNic, axis=0))\n",
    "plt.plot(wave[0,:], np.nanmax(specNic, axis=0))\n",
    "plt.axis([2.5, 15.4, 0, 100])\n",
    "plt.legend(('Minimum', 'Mean', 'Maximum'))\n",
    "plt.xlabel('Wavelength')\n",
    "plt.show()"
   ]
  },
  {
   "cell_type": "code",
   "execution_count": null,
   "metadata": {
    "collapsed": true
   },
   "outputs": [],
   "source": []
  }
 ],
 "metadata": {
  "kernelspec": {
   "display_name": "Python 2",
   "language": "python",
   "name": "python2"
  },
  "language_info": {
   "codemirror_mode": {
    "name": "ipython",
    "version": 2
   },
   "file_extension": ".py",
   "mimetype": "text/x-python",
   "name": "python",
   "nbconvert_exporter": "python",
   "pygments_lexer": "ipython2",
   "version": "2.7.14"
  }
 },
 "nbformat": 4,
 "nbformat_minor": 2
}
