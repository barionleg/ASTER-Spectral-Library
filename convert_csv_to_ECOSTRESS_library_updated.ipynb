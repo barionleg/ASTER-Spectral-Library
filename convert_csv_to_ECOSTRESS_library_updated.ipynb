{
 "cells": [
  {
   "cell_type": "markdown",
   "metadata": {},
   "source": [
    "Convert to ECOSTRESS Spectral Library   \n",
    "Susan Meerdink   \n",
    "12/8/2016   \n",
    "https://github.com/susanmeerdink/ASTER-Spectral-Library    \n",
    "This code converts a csv of spectra and metadata into ECOSTRESS spectral library format. This project contains example spectra and metadata in the repo.    \n",
    "This code takes four inputs:  \n",
    "1. Metadata for spectra csv - no commas in metadata fields\n",
    "2. ASD Spectra csv - must have the same order as metadata\n",
    "3. Nicolet Spectra csv - must have the same order as metadata\n",
    "4. Output directory for ECOSTRESS spectral library files"
   ]
  },
  {
   "cell_type": "code",
   "execution_count": 1,
   "metadata": {
    "collapsed": true
   },
   "outputs": [],
   "source": [
    "# Import Functions\n",
    "import numpy as np\n",
    "import os"
   ]
  },
  {
   "cell_type": "code",
   "execution_count": 2,
   "metadata": {
    "collapsed": true
   },
   "outputs": [],
   "source": [
    "def read_file(filename):\n",
    "    \"\"\"\n",
    "    Function for reading in metadata, ASD, or Nicolet spectra from csv.\n",
    "    \n",
    "    Parameters:\n",
    "    -----------\n",
    "    1) filename: The filename of the csv containing asd spectra information.\n",
    "    \n",
    "    Returns:\n",
    "    --------\n",
    "    1) array: numpy array that contains the parsed file info\n",
    "    2) header: string array containing the names\n",
    "    \"\"\"\n",
    "    inFile = open(filename, 'r')  # Open file\n",
    "    numRow = 0  # Keeps a counter of the number of rows\n",
    "    array = []  # empty array to hold file data\n",
    "    \n",
    "    # Loop through file\n",
    "    for line in inFile:\n",
    "        strLine = line.split(\",\")\n",
    "\n",
    "        if numRow == 0:  # if this is the first row, then grab column names\n",
    "            strLine[len(strLine)-1] = strLine[len(strLine) - 1].rstrip('\\n')  # removing newline character from last field\n",
    "            header = strLine  # Store the first line for output files\n",
    "            numRow += 1  # advance counter\n",
    "        else:  # if it isn't the first row\n",
    "            array.append(strLine)\n",
    "            \n",
    "    return array, header"
   ]
  },
  {
   "cell_type": "code",
   "execution_count": 3,
   "metadata": {
    "collapsed": true
   },
   "outputs": [],
   "source": [
    "def format_spec(header, spec):\n",
    "    \"\"\"\n",
    "    This function formats the aster spectral library spectra into the ecostress\n",
    "    spectral library format. \n",
    "    \n",
    "    Parameters:\n",
    "    -----------\n",
    "    1) origSpec: string array that contains two columns, the first being wavelength and the second reflectance\n",
    "    \n",
    "    Returns:\n",
    "    --------\n",
    "    1) arraySpec: a numpy array of strings that have only three decimal points for values\n",
    "    \"\"\" \n",
    "    arraySpec = np.chararray([len(spec)-1, 2], itemsize=7)\n",
    "    origSpec = np.chararray([len(spec), 2], itemsize=15)\n",
    "    origSpec[:, 0] = header\n",
    "    origSpec[:, 1] = spec\n",
    "    \n",
    "    # Loop through rows\n",
    "    for i in range(1, len(origSpec)):\n",
    "        if origSpec[i, 1] != \"-9999\":  # Some samples don't have ASD & Nicolet and the spaces are left blank            \n",
    "            # Loop through columns (wavelengths then reflectance)\n",
    "            for c in [0, 1]: \n",
    "                tempNum = round(float(origSpec[i, c]), 3)  # Convert to float and round to three decimal places\n",
    "                # If the number is greater than 9 don't add leading space\n",
    "                if tempNum >= 10:  \n",
    "                    if len(str(tempNum)) < 7:\n",
    "                        if 7 - len(str(tempNum)) == 4:\n",
    "                            tempStr = str(tempNum) + \"0000\"\n",
    "                        elif 7 - len(str(tempNum)) == 3:\n",
    "                            tempStr = str(tempNum) + \"000\"\n",
    "                        elif 7 - len(str(tempNum)) == 2:\n",
    "                            tempStr = str(tempNum) + \"00\"\n",
    "                        else:\n",
    "                            tempStr = str(tempNum) + \"0\"\n",
    "                    else:\n",
    "                        tempStr = str(tempNum)\n",
    "                 # If the number is less than 10 add a leading space\n",
    "                else: \n",
    "                    if len(str(tempNum)) < 6:\n",
    "                        if 6 - len(str(tempNum)) == 4:\n",
    "                            tempStr = \" \" + str(tempNum) + \"0000\"\n",
    "                        elif 6 - len(str(tempNum)) == 3:\n",
    "                            tempStr = \" \" + str(tempNum) + \"000\"\n",
    "                        elif 6 - len(str(tempNum)) == 2:\n",
    "                            tempStr = \" \" + str(tempNum) + \"00\"\n",
    "                        else:\n",
    "                            tempStr = \" \" + str(tempNum) + \"0\"\n",
    "                    else: \n",
    "                        tempStr = \" \" + str(tempNum)\n",
    "                arraySpec[i-1, c] = tempStr\n",
    "        else:\n",
    "            arraySpec[i-1, [0, 1]] = \"\"\n",
    "        \n",
    "    return arraySpec"
   ]
  },
  {
   "cell_type": "code",
   "execution_count": 4,
   "metadata": {
    "collapsed": true
   },
   "outputs": [],
   "source": [
    "def write_file(outDir, meta, spec, anc, \n",
    "               headersMeta, headersSpec, headersAnc):\n",
    "    \"\"\"\n",
    "    Function for writing an ECOSTRESS Spectral Library file.\n",
    "    \n",
    "    Parameters:\n",
    "    -----------\n",
    "    1) outDir: a file path for the folder that the output file will be located\n",
    "    2) meta: a numpy array containing strings associated with the metadata fields for one sample\n",
    "    3) spec: a numpy array containing spectra for one sample\n",
    "    4) anc: a numpy array containing ancillary data for one sample\n",
    "    5) headersMeta: a string array containing the first row of meta csv\n",
    "    6) headersSpec: a string array containing the first row of Spectra csv (wavelengths)\n",
    "    7) headersAnc: a string array containing the first row of ancillary csv\n",
    "    \n",
    "    Output File:\n",
    "    ------------\n",
    "    1) Outputs a text file containing the metadata, ASD, and Nicolet spectra for one sample.\n",
    "    See readme for formatting information.\n",
    "    \"\"\"\n",
    "    # Output file name format: location.instrument.type.class.genus.species.samplenumber.filetype.txt\n",
    "    # Example file name format: jpl.asdnicolet.npv.bark.abies.concolor.vh311.spectrum.txt\n",
    "    if 'non' in meta[1]:\n",
    "        if 'VSWIR' in meta[7]:\n",
    "            outFileName = outDir + ('nonphotosyntheticvegetation' + '.' + \n",
    "                          meta[2] + '.' + meta[3] + '.' + meta[4] + '.' + meta[7] + '.' +\n",
    "                          meta[5] + '.' + meta[6] + '.asd.spectrum.txt').lower()\n",
    "        else:\n",
    "            outFileName = outDir + ('nonphotosyntheticvegetation' + '.' + \n",
    "                          meta[2] + '.' + meta[3] + '.' + meta[4] + '.' + meta[7] + '.' +\n",
    "                          meta[5] + '.' + meta[6] + '.nicolet.spectrum.txt').lower()    \n",
    "    else:\n",
    "        if 'VSWIR' in meta[7]:\n",
    "            outFileName = outDir + (meta[1] + '.' + meta[2] + '.' + meta[3] + '.' + meta[4] + '.' + meta[7] + '.' +\n",
    "                          meta[5] + '.' + meta[6] + '.asd.spectrum.txt').lower()\n",
    "        else:            \n",
    "            outFileName = outDir + (meta[1] + '.' + meta[2] + '.' + meta[3] + '.' + meta[4] + '.' + meta[7] + '.' +\n",
    "                          meta[5] + '.' + meta[6] + '.nicolet.spectrum.txt').lower()\n",
    "   \n",
    "    outFile = open(outFileName, 'w')  # open file\n",
    "    \n",
    "    # Output Metadata\n",
    "    for i in range(len(meta)):  # loop through metadata fields\n",
    "        if i == len(headersMeta) - 1:\n",
    "            # If the last column of metadata csv is set to True there will be an ancillary file associated\n",
    "            if 'TRUE' in meta[i]:  \n",
    "                # Output data to spectral library file\n",
    "                addinfoLine = str.replace(os.path.basename(outFileName), 'spectrum', 'ancillary')\n",
    "                outFile.write(headersMeta[i] + ': ' + addinfoLine + '\\n')\n",
    "                outFile.write('\\n')\n",
    "                \n",
    "                # Create and output ancillary data file\n",
    "                ancFile = open(outDir + addinfoLine, 'w')\n",
    "                for j in range(1, len(anc)):\n",
    "                    ancFile.write(headersAnc[j] + ': ' + anc[j] + '\\n')\n",
    "                ancFile.close()  # close file so it can be variable reused\n",
    "                \n",
    "            # If the last column of metadata csv is set to False, leave blank\n",
    "            else:\n",
    "                outFile.write(headersMeta[i] + ': \\n')\n",
    "                outFile.write('\\n')\n",
    "        else:\n",
    "            outFile.write(headersMeta[i] + ': ' + meta[i] + '\\n')\n",
    "\n",
    "    # Output Spectra data\n",
    "    specFormatted = format_spec(headersSpec, spec)\n",
    "    for j in range(specFormatted.shape[0]):  # loop through spectra fields\n",
    "        if specFormatted[j, 0] != \"\":\n",
    "            outFile.write(specFormatted[j, 0] + \"\\t\" + specFormatted[j, 1] + '\\n')\n",
    "            \n",
    "    outFile.close()  # close file so it can be variable reused"
   ]
  },
  {
   "cell_type": "code",
   "execution_count": 5,
   "metadata": {
    "collapsed": true
   },
   "outputs": [],
   "source": [
    "def create_spectral_library_files(metaFilename, specFilename, ancFilename, outDir):\n",
    "    \"\"\"\n",
    "    Function for reading in metadata, ASD, or Nicolet spectra from csv.\n",
    "    \n",
    "    Parameters:\n",
    "    -----------\n",
    "    1) metaFilename: file path for csv containing metadata\n",
    "    2) specFilename: file path for csv containing spectra either from asd or nicolet\n",
    "    3) ancFilename: file path for csv containing ancillary data \n",
    "    4) outDir: file path for the output location of spectra library files\n",
    "    \n",
    "    Returns:\n",
    "    --------\n",
    "    \"\"\"\n",
    "    # Read in files and grab data/headers\n",
    "    arrayMeta, headersMeta = read_file(metaFilename)\n",
    "    arraySpec, headersSpec = read_file(specFilename)\n",
    "    arrayAnc, headersAnc = read_file(ancFilename)\n",
    "    \n",
    "    # Loop through each row and create output file\n",
    "    for row in range(len(arrayMeta)):\n",
    "        meta = arrayMeta[row]\n",
    "        spec = arraySpec[row]\n",
    "        anc = arrayAnc[row]\n",
    "        write_file(outDir, meta, spec, anc, headersMeta, headersSpec, headersAnc)\n",
    "    \n",
    "    print 'Finished converting %s samples to ECOSTRESS spectral library files' % len(arrayMeta)"
   ]
  },
  {
   "cell_type": "code",
   "execution_count": 6,
   "metadata": {},
   "outputs": [],
   "source": [
    "# # Example Files\n",
    "# directory = \"C:\\\\Users\\\\Susan\\\\Documents\\\\GitHub\\\\ASTER-Spectral-Library\\\\\"\n",
    "# inMetaFileName = directory + \"Example Inputs\\\\Example_Metadata.csv\"\n",
    "# inASDFileName = directory + \"Example Inputs\\\\Example_Spectra_ASD.csv\"\n",
    "# inNicoletFileName = directory + \"Example Inputs\\\\Example_Spectra_Nicolet.csv\"\n",
    "# inAncFilename = directory + \"Example Inputs\\\\Example_Ancillary.csv\"\n",
    "# outDir = directory + \"Example Outputs\\\\\"\n",
    "\n",
    "# create_spectral_library_files(inMetaFileName, inASDFileName, inNicoletFileName, inAncFilename, outDir)"
   ]
  },
  {
   "cell_type": "code",
   "execution_count": 12,
   "metadata": {},
   "outputs": [
    {
     "name": "stdout",
     "output_type": "stream",
     "text": [
      "Finished converting 206 samples to ECOSTRESS spectral library files\n",
      "Finished converting 138 samples to ECOSTRESS spectral library files\n"
     ]
    }
   ],
   "source": [
    "# Huntington Gardens Spectra\n",
    "directory = \"F:\\\\Dropbox\\\\Analysis\\\\ECOSTRESS Spectral Library\\\\Input Spectral Library Files Updated\\\\\"\n",
    "inMetaFileName = directory + \"Huntington_Gardens_Metadata_ASD.csv\"\n",
    "inASDFileName = directory + \"Huntington_Gardens_Spectra_ASD.csv\"\n",
    "inAncFilename = directory + \"Huntington_Gardens_Ancillary_ASD.csv\"\n",
    "outDir = \"F:\\\\Dropbox\\\\Analysis\\\\ECOSTRESS Spectral Library\\\\ECOSTRESS Spectral Library Files Updated\\\\\"\n",
    "\n",
    "create_spectral_library_files(inMetaFileName, inASDFileName, inAncFilename, outDir)\n",
    "\n",
    "directory = \"F:\\\\Dropbox\\\\Analysis\\\\ECOSTRESS Spectral Library\\\\Input Spectral Library Files Updated\\\\\"\n",
    "inMetaFileName = directory + \"Huntington_Gardens_Metadata_Nicolet.csv\"\n",
    "inSpecFileName = directory + \"Huntington_Gardens_Spectra_Nicolet.csv\"\n",
    "inAncFilename = directory + \"Huntington_Gardens_Ancillary_Nicolet.csv\"\n",
    "outDir = \"F:\\\\Dropbox\\\\Analysis\\\\ECOSTRESS Spectral Library\\\\ECOSTRESS Spectral Library Files Updated\\\\\"\n",
    "\n",
    "create_spectral_library_files(inMetaFileName, inSpecFileName, inAncFilename, outDir)"
   ]
  },
  {
   "cell_type": "code",
   "execution_count": 8,
   "metadata": {},
   "outputs": [
    {
     "name": "stdout",
     "output_type": "stream",
     "text": [
      "Finished converting 292 samples to ECOSTRESS spectral library files\n",
      "Finished converting 292 samples to ECOSTRESS spectral library files\n"
     ]
    }
   ],
   "source": [
    "# HyspIRI Spectra\n",
    "directory = \"F:\\\\Dropbox\\\\Analysis\\\\ECOSTRESS Spectral Library\\\\Input Spectral Library Files Updated\\\\\"\n",
    "inMetaFileName = directory + \"HyspIRI_Metadata_ASD.csv\"\n",
    "inSpecFileName = directory + \"HyspIRI_Spectra_ASD.csv\"\n",
    "inAncFilename = directory + \"HyspIRI_Ancillary.csv\"\n",
    "outDir = \"F:\\\\Dropbox\\\\Analysis\\\\ECOSTRESS Spectral Library\\\\ECOSTRESS Spectral Library Files Updated\\\\\"\n",
    "\n",
    "create_spectral_library_files(inMetaFileName, inSpecFileName, inAncFilename, outDir)\n",
    "\n",
    "directory = \"F:\\\\Dropbox\\\\Analysis\\\\ECOSTRESS Spectral Library\\\\Input Spectral Library Files Updated\\\\\"\n",
    "inMetaFileName = directory + \"HyspIRI_Metadata_Nicolet.csv\"\n",
    "inSpecFileName = directory + \"HyspIRI_Spectra_Nicolet.csv\"\n",
    "inAncFilename = directory + \"HyspIRI_Ancillary.csv\"\n",
    "outDir = \"F:\\\\Dropbox\\\\Analysis\\\\ECOSTRESS Spectral Library\\\\ECOSTRESS Spectral Library Files Updated\\\\\"\n",
    "\n",
    "create_spectral_library_files(inMetaFileName, inSpecFileName, inAncFilename, outDir)"
   ]
  },
  {
   "cell_type": "code",
   "execution_count": 9,
   "metadata": {},
   "outputs": [
    {
     "name": "stdout",
     "output_type": "stream",
     "text": [
      "Finished converting 39 samples to ECOSTRESS spectral library files\n",
      "Finished converting 38 samples to ECOSTRESS spectral library files\n"
     ]
    }
   ],
   "source": [
    "# Harvard Spectra\n",
    "directory = \"F:\\\\Dropbox\\\\Analysis\\\\ECOSTRESS Spectral Library\\\\Input Spectral Library Files Updated\\\\\"\n",
    "inMetaFileName = directory + \"Harvard_Metadata_ASD.csv\"\n",
    "inSpecFileName = directory + \"Harvard_Spectra_ASD.csv\"\n",
    "inAncFilename = directory + \"Harvard_Ancillary_ASD.csv\"\n",
    "outDir = \"F:\\\\Dropbox\\\\Analysis\\\\ECOSTRESS Spectral Library\\\\ECOSTRESS Spectral Library Files Updated\\\\\"\n",
    "\n",
    "create_spectral_library_files(inMetaFileName, inSpecFileName, inAncFilename, outDir)\n",
    "\n",
    "directory = \"F:\\\\Dropbox\\\\Analysis\\\\ECOSTRESS Spectral Library\\\\Input Spectral Library Files Updated\\\\\"\n",
    "inMetaFileName = directory + \"Harvard_Metadata_Nicolet.csv\"\n",
    "inSpecFileName = directory + \"Harvard_Spectra_Nicolet.csv\"\n",
    "inAncFilename = directory + \"Harvard_Ancillary_Nicolet.csv\"\n",
    "outDir = \"F:\\\\Dropbox\\\\Analysis\\\\ECOSTRESS Spectral Library\\\\ECOSTRESS Spectral Library Files Updated\\\\\"\n",
    "\n",
    "create_spectral_library_files(inMetaFileName, inSpecFileName, inAncFilename, outDir)"
   ]
  },
  {
   "cell_type": "code",
   "execution_count": 11,
   "metadata": {
    "scrolled": true
   },
   "outputs": [
    {
     "name": "stdout",
     "output_type": "stream",
     "text": [
      "Finished converting 55 samples to ECOSTRESS spectral library files\n",
      "Finished converting 55 samples to ECOSTRESS spectral library files\n"
     ]
    }
   ],
   "source": [
    "# Miscellanous Vegetation Spectra\n",
    "directory = \"F:\\\\Dropbox\\\\Analysis\\\\ECOSTRESS Spectral Library\\\\Input Spectral Library Files Updated\\\\\"\n",
    "inMetaFileName = directory + \"Veg_Misc_Metadata_ASD.csv\"\n",
    "inSpecFileName = directory + \"Veg_Misc_Spectra_ASD.csv\"\n",
    "inAncFilename = directory + \"Veg_Misc_Ancillary.csv\"\n",
    "outDir = \"F:\\\\Dropbox\\\\Analysis\\\\ECOSTRESS Spectral Library\\\\ECOSTRESS Spectral Library Files Updated\\\\\"\n",
    "\n",
    "create_spectral_library_files(inMetaFileName, inSpecFileName, inAncFilename, outDir)\n",
    "\n",
    "directory = \"F:\\\\Dropbox\\\\Analysis\\\\ECOSTRESS Spectral Library\\\\Input Spectral Library Files Updated\\\\\"\n",
    "inMetaFileName = directory + \"Veg_Misc_Metadata_Nicolet.csv\"\n",
    "inSpecFileName = directory + \"Veg_Misc_Spectra_Nicolet.csv\"\n",
    "inAncFilename = directory + \"Veg_Misc_Ancillary.csv\"\n",
    "outDir = \"F:\\\\Dropbox\\\\Analysis\\\\ECOSTRESS Spectral Library\\\\ECOSTRESS Spectral Library Files Updated\\\\\"\n",
    "\n",
    "create_spectral_library_files(inMetaFileName, inSpecFileName, inAncFilename, outDir)"
   ]
  },
  {
   "cell_type": "code",
   "execution_count": null,
   "metadata": {
    "collapsed": true
   },
   "outputs": [],
   "source": []
  },
  {
   "cell_type": "code",
   "execution_count": null,
   "metadata": {
    "collapsed": true
   },
   "outputs": [],
   "source": []
  }
 ],
 "metadata": {
  "kernelspec": {
   "display_name": "Python 2",
   "language": "python",
   "name": "python2"
  },
  "language_info": {
   "codemirror_mode": {
    "name": "ipython",
    "version": 2
   },
   "file_extension": ".py",
   "mimetype": "text/x-python",
   "name": "python",
   "nbconvert_exporter": "python",
   "pygments_lexer": "ipython2",
   "version": "2.7.14"
  }
 },
 "nbformat": 4,
 "nbformat_minor": 2
}
