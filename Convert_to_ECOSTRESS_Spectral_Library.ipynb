{
 "cells": [
  {
   "cell_type": "markdown",
   "metadata": {},
   "source": [
    "Convert to ECOSTRESS Spectral Library   \n",
    "Susan Meerdink   \n",
    "12/8/2016   \n",
    "https://github.com/susanmeerdink/ASTER-Spectral-Library    \n",
    "This code converts a csv of spectra and metadata into ECOSTRESS spectral library format. This project contains example spectra and metadata in the repo.    \n",
    "This code takes four inputs:  \n",
    "1. Metadata for spectra csv - no commas in metadata fields\n",
    "2. ASD Spectra csv - must have the same order as metadata\n",
    "3. Nicolet Spectra csv - must have the same order as metadata\n",
    "4. Output directory for ECOSTRESS spectral library files"
   ]
  },
  {
   "cell_type": "code",
   "execution_count": 1,
   "metadata": {
    "collapsed": true
   },
   "outputs": [],
   "source": [
    "# Import Functions\n",
    "import numpy as np"
   ]
  },
  {
   "cell_type": "code",
   "execution_count": 2,
   "metadata": {
    "collapsed": true
   },
   "outputs": [],
   "source": [
    "def read_file(filename):\n",
    "    \"\"\"\n",
    "    Function for reading in metadata, ASD, or Nicolet spectra from csv.\n",
    "    \n",
    "    Parameters:\n",
    "    -----------\n",
    "    1) filename: The filename of the csv containing asd spectra information.\n",
    "    \n",
    "    Returns:\n",
    "    --------\n",
    "    1) array: numpy array that contains the parsed file info\n",
    "    2) header: string array containing the names\n",
    "    \"\"\"\n",
    "    inFile = open(filename, 'r')  # Open ASD spectra file\n",
    "    numRow = 0  # Keeps a counter of the number of rows\n",
    "    array = []  # empty array to hold ASD spectra data\n",
    "    \n",
    "    # Loop through file\n",
    "    for line in inFile:\n",
    "        strLine = line.split(\",\")\n",
    "\n",
    "        if numRow == 0:  # if this is the first row, then grab column names\n",
    "            strLine[len(strLine)-1] = strLine[len(strLine) - 1].rstrip('\\n')  # removing newline character from last field\n",
    "            header = strLine  # Store the first line for output files\n",
    "            numRow += 1  # advance counter\n",
    "        else:  # if it isn't the first row\n",
    "            array.append(strLine)\n",
    "            \n",
    "    return array, header"
   ]
  },
  {
   "cell_type": "code",
   "execution_count": 3,
   "metadata": {
    "collapsed": true
   },
   "outputs": [],
   "source": [
    "def write_file(outDir, meta, asd, nicolet, headersMeta, headersASD, headersNicolet):\n",
    "    \"\"\"\n",
    "    Function for writing an ECOSTRESS Spectral Library file.\n",
    "    \n",
    "    Parameters:\n",
    "    -----------\n",
    "    1) meta: a numpy array containing strings associated with the metadata fields for one sample\n",
    "    2) asd: a numpy array containing asd spectra for one sample\n",
    "    3) nicolet: a numpy array containing nicolet spectra for one sample\n",
    "    \n",
    "    Output File:\n",
    "    --------\n",
    "    1) Outputs a text file containing the metadata, ASD, and Nicolet spectra for one sample.\n",
    "    See readme for formatting information.\n",
    "    \"\"\"\n",
    "    # Output file name format: location.instrument.type.class.genus.species.samplenumber.filetype.txt\n",
    "    # Example file name format: jpl.asdnicolet.npv.bark.abies.concolor.vh311.spectrum.txt\n",
    "    if 'non' in meta[1]:\n",
    "        outFileName = outDir + (meta[6] + '.asdnicolet.' + 'nonphotosyntheticvegetation' + '.' + \n",
    "                            meta[2] + '.' + meta[3] + '.' + meta[4] + '.' + \n",
    "                            meta[5] + '.spectrum.txt').lower()\n",
    "    else:\n",
    "        outFileName = outDir + (meta[6] + '.asdnicolet.' + meta[1] + '.' + \n",
    "                            meta[2] + '.' + meta[3] + '.' + meta[4] + '.' + \n",
    "                            meta[5] + '.spectrum.txt').lower()\n",
    "    addinfoLine = (meta[6] + '.asdnicolet.' + meta[1] + '.' + meta[2] + '.' + meta[3] + \n",
    "                   '.' + meta[4] + '.' + meta[5] + '.ancillary.txt').lower()\n",
    "    outFile = open(outFileName, 'w')  # open file\n",
    "    \n",
    "    # Output Metadata\n",
    "    for i in range(len(meta)):  # loop through metadata fields\n",
    "        if i == len(headersMeta) - 1:\n",
    "            if 'TRUE' in meta[i]:  # If the last column of metadata csv is set to True there will be an ancillary file associated\n",
    "                outFile.write(headersMeta[i] + ': ' + addinfoLine + '\\n')\n",
    "                outFile.write('\\n')\n",
    "            else:\n",
    "                outFile.write(headersMeta[i] + ': \\n')\n",
    "                outFile.write('\\n')\n",
    "        else:\n",
    "            outFile.write(headersMeta[i] + ': ' + meta[i] + '\\n')\n",
    "\n",
    "    # Output ASD data\n",
    "    for j in range(1, len(headersASD)):  # loop through asd fields\n",
    "        # Leading space so that wavelengths are right justified \n",
    "        outFile.write(\" \" + headersASD[j] + \"\\t\" + (\"{0:.6s}\".format(asd[j])) + '\\n')\n",
    "\n",
    "    # Output Nicolet data\n",
    "    for k in range(1, len(headersNicolet)):  # loop through nicolet fields\n",
    "        if nicolet[k] != \"\":\n",
    "            if len(headersNicolet[k]) < 6: # Add leading space so that wavelengths are right justified \n",
    "                outFile.write(\" \" + headersNicolet[k] + \"\\t\" + (\"{0:.6s}\".format(nicolet[k])) + '\\n')\n",
    "            else:  # Do not add leading space because there are 6 characters\n",
    "                outFile.write(headersNicolet[k] + \"\\t\" + (\"{0:.6s}\".format(nicolet[k])) + '\\n')\n",
    "\n",
    "    outFile.close()  # close file so it can be reused at the beginning"
   ]
  },
  {
   "cell_type": "code",
   "execution_count": 4,
   "metadata": {
    "collapsed": true
   },
   "outputs": [],
   "source": [
    "def create_spectral_library_files(metaFilename, asdFilename, nicoletFilename, outDir):\n",
    "    \"\"\"\n",
    "    Function for reading in metadata, ASD, or Nicolet spectra from csv.\n",
    "    \n",
    "    Parameters:\n",
    "    -----------\n",
    "    1) metaFilename: file path for csv containing metadata\n",
    "    2) asdFilename: file path for csv containing asd spectra\n",
    "    3) nicoletFilename: file path for csv containing nicolet spectra\n",
    "    4) outDir: file path for the output location of spectra library files\n",
    "    \n",
    "    Returns:\n",
    "    --------\n",
    "    \"\"\"\n",
    "    # Read in files and grab data/headers\n",
    "    arrayMeta, headersMeta = read_file(metaFilename)\n",
    "    arrayASD, headersASD = read_file(asdFilename)\n",
    "    arrayNicolet, headersNicolet = read_file(nicoletFilename)\n",
    "    \n",
    "    # Loop through each row and create output file\n",
    "    for row in range(len(arrayMeta)):\n",
    "        meta = arrayMeta[row]\n",
    "        asd = arrayASD[row]\n",
    "        nicolet = arrayNicolet[row]\n",
    "        write_file(outDir, meta, asd, nicolet, headersMeta, headersASD, headersNicolet)\n",
    "    \n",
    "    print 'Finished converting %s samples to ECOSTRESS spectral library files' % len(arrayMeta)"
   ]
  },
  {
   "cell_type": "code",
   "execution_count": 5,
   "metadata": {},
   "outputs": [
    {
     "name": "stdout",
     "output_type": "stream",
     "text": [
      "Finished converting 14 samples to ECOSTRESS spectral library files\n"
     ]
    }
   ],
   "source": [
    "# Example Files\n",
    "directory = \"C:\\\\Users\\\\Susan\\\\Documents\\\\GitHub\\\\ASTER-Spectral-Library\\\\\"\n",
    "inMetaFileName = directory + \"Example_Metadata.csv\"\n",
    "inASDFileName = directory + \"Example_Spectra_ASD.csv\"\n",
    "inNicoletFileName = directory + \"Example_Spectra_Nicolet.csv\"\n",
    "outDir = directory + \"Output Spectral Libraries\\\\\"\n",
    "\n",
    "create_spectral_library_files(inMetaFileName, inASDFileName, inNicoletFileName, outDir)"
   ]
  },
  {
   "cell_type": "code",
   "execution_count": 6,
   "metadata": {},
   "outputs": [
    {
     "name": "stdout",
     "output_type": "stream",
     "text": [
      "Finished converting 206 samples to ECOSTRESS spectral library files\n"
     ]
    }
   ],
   "source": [
    "# Huntington Gardens Spectra\n",
    "directory = \"F:\\\\Dropbox\\\\Analysis\\\\ECOSTRESS Spectral Library\\\\Input Spectral Library Files\\\\\"\n",
    "inMetaFileName = directory + \"Huntington_Gardens_Metadata.csv\"\n",
    "inASDFileName = directory + \"Huntington_Gardens_Spectra_ASD.csv\"\n",
    "inNicoletFileName = directory + \"Huntington_Gardens_Spectra_Nicolet.csv\"\n",
    "outDir = \"F:\\\\Dropbox\\\\Analysis\\\\ECOSTRESS Spectral Library\\\\ECOSTRESS Spectral Library Files\\\\\"\n",
    "\n",
    "create_spectral_library_files(inMetaFileName, inASDFileName, inNicoletFileName, outDir)"
   ]
  },
  {
   "cell_type": "code",
   "execution_count": 7,
   "metadata": {},
   "outputs": [
    {
     "name": "stdout",
     "output_type": "stream",
     "text": [
      "Finished converting 292 samples to ECOSTRESS spectral library files\n"
     ]
    }
   ],
   "source": [
    "# HyspIRI Spectra\n",
    "directory = \"F:\\\\Dropbox\\\\Analysis\\\\ECOSTRESS Spectral Library\\\\Input Spectral Library Files\\\\\"\n",
    "inMetaFileName = directory + \"HyspIRI_Metadata.csv\"\n",
    "inASDFileName = directory + \"HyspIRI_Spectra_ASD.csv\"\n",
    "inNicoletFileName = directory + \"HyspIRI_Spectra_Nicolet.csv\"\n",
    "outDir = \"F:\\\\Dropbox\\\\Analysis\\\\ECOSTRESS Spectral Library\\\\ECOSTRESS Spectral Library Files\\\\\"\n",
    "\n",
    "create_spectral_library_files(inMetaFileName, inASDFileName, inNicoletFileName, outDir)"
   ]
  },
  {
   "cell_type": "code",
   "execution_count": 8,
   "metadata": {},
   "outputs": [
    {
     "name": "stdout",
     "output_type": "stream",
     "text": [
      "Finished converting 47 samples to ECOSTRESS spectral library files\n"
     ]
    }
   ],
   "source": [
    "# Harvard Spectra\n",
    "directory = \"F:\\\\Dropbox\\\\Analysis\\\\ECOSTRESS Spectral Library\\\\Input Spectral Library Files\\\\\"\n",
    "inMetaFileName = directory + \"Harvard_Metadata.csv\"\n",
    "inASDFileName = directory + \"Harvard_Spectra_ASD.csv\"\n",
    "inNicoletFileName = directory + \"Harvard_Spectra_Nicolet.csv\"\n",
    "outDir = \"F:\\\\Dropbox\\\\Analysis\\\\ECOSTRESS Spectral Library\\\\ECOSTRESS Spectral Library Files\\\\\"\n",
    "\n",
    "create_spectral_library_files(inMetaFileName, inASDFileName, inNicoletFileName, outDir)"
   ]
  },
  {
   "cell_type": "code",
   "execution_count": 9,
   "metadata": {},
   "outputs": [
    {
     "name": "stdout",
     "output_type": "stream",
     "text": [
      "Finished converting 39 samples to ECOSTRESS spectral library files\n"
     ]
    }
   ],
   "source": [
    "# NPV and Miscellanous Spectra\n",
    "directory = \"F:\\\\Dropbox\\\\Analysis\\\\ECOSTRESS Spectral Library\\\\Input Spectral Library Files\\\\\"\n",
    "inMetaFileName = directory + \"NPV_Misc_Metadata.csv\"\n",
    "inASDFileName = directory + \"NPV_Misc_Spectra_ASD.csv\"\n",
    "inNicoletFileName = directory + \"NPV_Misc_Spectra_Nicolet.csv\"\n",
    "outDir = \"F:\\\\Dropbox\\\\Analysis\\\\ECOSTRESS Spectral Library\\\\ECOSTRESS Spectral Library Files\\\\\"\n",
    "\n",
    "create_spectral_library_files(inMetaFileName, inASDFileName, inNicoletFileName, outDir)"
   ]
  },
  {
   "cell_type": "code",
   "execution_count": 10,
   "metadata": {},
   "outputs": [
    {
     "name": "stdout",
     "output_type": "stream",
     "text": [
      "Finished converting 8 samples to ECOSTRESS spectral library files\n"
     ]
    }
   ],
   "source": [
    "# Miscellanous Vegetation Spectra\n",
    "directory = \"F:\\\\Dropbox\\\\Analysis\\\\ECOSTRESS Spectral Library\\\\Input Spectral Library Files\\\\\"\n",
    "inMetaFileName = directory + \"Veg_Misc_Metadata.csv\"\n",
    "inASDFileName = directory + \"Veg_Misc_Spectra_ASD.csv\"\n",
    "inNicoletFileName = directory + \"Veg_Misc_Spectra_Nicolet.csv\"\n",
    "outDir = \"F:\\\\Dropbox\\\\Analysis\\\\ECOSTRESS Spectral Library\\\\ECOSTRESS Spectral Library Files\\\\\"\n",
    "\n",
    "create_spectral_library_files(inMetaFileName, inASDFileName, inNicoletFileName, outDir)"
   ]
  },
  {
   "cell_type": "code",
   "execution_count": null,
   "metadata": {
    "collapsed": true
   },
   "outputs": [],
   "source": []
  }
 ],
 "metadata": {
  "kernelspec": {
   "display_name": "Python 2",
   "language": "python",
   "name": "python2"
  },
  "language_info": {
   "codemirror_mode": {
    "name": "ipython",
    "version": 2
   },
   "file_extension": ".py",
   "mimetype": "text/x-python",
   "name": "python",
   "nbconvert_exporter": "python",
   "pygments_lexer": "ipython2",
   "version": "2.7.14"
  }
 },
 "nbformat": 4,
 "nbformat_minor": 2
}
