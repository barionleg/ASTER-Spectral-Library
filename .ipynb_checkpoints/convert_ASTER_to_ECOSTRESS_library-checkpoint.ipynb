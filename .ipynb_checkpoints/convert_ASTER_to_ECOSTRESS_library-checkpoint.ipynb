{
 "cells": [
  {
   "cell_type": "markdown",
   "metadata": {},
   "source": [
    "Convert existing ASTER spectral library files to ECOSTRESS Spectral library files\n",
    "Owner: Susan Meerdink   \n",
    "Creation Date: 10/9/17   \n",
    "https://github.com/susanmeerdink/ASTER-Spectral-Library   \n",
    "This file converts existing ASTER spectral library files to the new ECOSTRESS spectral library format. The existing ASTER files have many different format types including: \n",
    "1. No leading space and one space between wavelength and spectrum\n",
    "2. Leading space and tab in between wavelength and spectrum\n",
    "3. No leading space and tab in between wavelength and spectrum"
   ]
  },
  {
   "cell_type": "code",
   "execution_count": 1,
   "metadata": {
    "collapsed": true
   },
   "outputs": [],
   "source": [
    "# Import Functions\n",
    "import numpy as np\n",
    "import os\n",
    "import glob"
   ]
  },
  {
   "cell_type": "code",
   "execution_count": 2,
   "metadata": {},
   "outputs": [],
   "source": [
    "def read_aster_file(filename):\n",
    "    \"\"\"\n",
    "    Function for reading in existing ASTER spectral library file.\n",
    "    This function formats the metadata fields into then new format, but \n",
    "    does not format spectra\n",
    "    \n",
    "    Parameters:\n",
    "    -----------\n",
    "    1) filename: The filename for one ASTER spectral library text file\n",
    "    \n",
    "    Returns:\n",
    "    --------\n",
    "    1) arrayNewMeta: string array that contains 20 rows with each row a new metadata field pulled from aster file\n",
    "    2) arrayNewSpec: string array that contains two columns, the first being wavelength and the second reflectance\n",
    "    \"\"\"\n",
    "    inFile = open(filename, 'r')  # Open ASD spectra file\n",
    "    numRow = 0  # Keeps a counter of the number of rows \n",
    "    arrayOrig = []  # empty array to hold file data\n",
    "    arrayNewMeta = ['s', 's', 's', 's', 's', 's', 's']  # empty array to hold newly formatted data\n",
    "    arrayNewSpec = []  # empty array to hold spectra\n",
    "    \n",
    "    # Loop through file and pull out every line\n",
    "    for line in inFile:\n",
    "        if numRow < 26:\n",
    "            arrayOrig.append(line.rstrip('\\n'))\n",
    "        else:\n",
    "            numLine = line.rstrip('\\n').split()\n",
    "            arrayNewSpec.append(numLine)\n",
    "        numRow += 1\n",
    "    \n",
    "    # Edit metadata to fit new formatting\n",
    "    arrayNewMeta[0:8] = arrayOrig[0:8]\n",
    "    arrayNewMeta.append(arrayOrig[8] + arrayOrig[9])  # Combine the two origin lines into one\n",
    "    arrayNewMeta.append('Collection Date: N/A')  # Add in new line for collection date\n",
    "    arrayNewMeta.append(arrayOrig[10] + arrayOrig[11] + arrayOrig[12] + \\\n",
    "                        arrayOrig[13] + arrayOrig[14] + arrayOrig[15])\n",
    "    arrayNewMeta[11:19] = arrayOrig[16:25]\n",
    "    \n",
    "    return arrayNewMeta, arrayNewSpec"
   ]
  },
  {
   "cell_type": "code",
   "execution_count": 7,
   "metadata": {},
   "outputs": [],
   "source": [
    "def format_spec(origSpec):\n",
    "    \"\"\"\n",
    "    This function formats the aster spectral library spectra into the ecostress\n",
    "    spectral library format. \n",
    "    \n",
    "    Parameters:\n",
    "    -----------\n",
    "    1) origSpec: string array that contains two columns, the first being wavelength and the second reflectance\n",
    "    \n",
    "    Returns:\n",
    "    --------\n",
    "    1) arraySpec: a numpy array of strings that have only three decimal points for values\n",
    "    \"\"\"    \n",
    "#     numpyArray = np.array(origSpec)\n",
    "#     floatArray = numpyArray.astype(np.float)\n",
    "#     roundArray = np.round(floatArray, 3)\n",
    "#     arraySpec = roundArray.astype('S7')\n",
    "    \n",
    "    #for i in range(arraySpec.shape[0]):\n",
    "#     floatArray[16,0] = '%.3f' %floatArray[16,0]\n",
    "#     print(floatArray[16,0])\n",
    "    \n",
    "#     print(arraySpec[15:20, :])\n",
    "    \n",
    "    return origSpec"
   ]
  },
  {
   "cell_type": "code",
   "execution_count": 8,
   "metadata": {},
   "outputs": [],
   "source": [
    "def write_ecostress_file(currentDir, outDir, filename):\n",
    "    \"\"\"\n",
    "    This function will process a single ASTER text file and output a single\n",
    "    ECOSTRESS text file. \n",
    "    \n",
    "    Parameters:\n",
    "    -----------\n",
    "    1) outDir: a file path for the folder that the output file will be located\n",
    "    2) currentDir: a file path for the folder that input file is located\n",
    "    2) filename: The filename for one ASTER spectral library text file\n",
    "    \n",
    "    Output File:\n",
    "    ------------\n",
    "    1) Outputs a text file containing the metadata, ASD, and Nicolet spectra for one sample.\n",
    "    See readme for formatting information.\n",
    "    \"\"\"\n",
    "    meta, specOrig = read_aster_file(currentDir + filename)\n",
    "    spec = format_spec(specOrig)\n",
    "    \n",
    "    outFile = open(outDir + filename, 'w')  # open file\n",
    "    \n",
    "    # Loop through metadata\n",
    "    for i in range(len(meta)):\n",
    "        outFile.write(meta[i] + '\\n')\n",
    "    \n",
    "    outFile.write('\\n')  # Add one empty line between metadata and spectra\n",
    "    \n",
    "    # Loop through spectra\n",
    "    for j in range(len(spec)):\n",
    "        if len(spec[j][0]) < 6:\n",
    "            outFile.write(\" \" + spec[j][0] + '\\t' + spec[j][1] + '\\n')\n",
    "        else:\n",
    "            outFile.write(spec[j][0] + '\\t' + spec[j][1] + '\\n')\n",
    "    \n",
    "    outFile.close()  # Close file   "
   ]
  },
  {
   "cell_type": "code",
   "execution_count": 9,
   "metadata": {
    "collapsed": true
   },
   "outputs": [],
   "source": [
    "def convert_aster_files(currentDir, outDir):\n",
    "    \"\"\"\n",
    "    This function finds all the ASTER text files in a folder and calls the \n",
    "    write_ecostress_file to format them into ECOSTRESS text files.\n",
    "    \n",
    "    Parameters:\n",
    "    -----------\n",
    "    1) outDir: a file path for the folder that the output file will be located\n",
    "    2) currentDir: a file path for the folder that input file is located\n",
    "    \"\"\"\n",
    "    os.chdir(currentDir) # Set this to the current directory\n",
    "    filelist = []\n",
    "    \n",
    "    # Find all the ASTER text files in directory\n",
    "    for file in glob.glob(\"*.spectrum.txt\"):\n",
    "        print(file)\n",
    "        write_ecostress_file(currentDir, outDir, file)"
   ]
  },
  {
   "cell_type": "code",
   "execution_count": 10,
   "metadata": {},
   "outputs": [
    {
     "name": "stdout",
     "output_type": "stream",
     "text": [
      "jhu.becknic.soil.alfisol.paleustalf.coarse.87P2376.spectrum.txt\n",
      "jhu.nicolet.mineral.carbonate.none.coarse.aragon1.spectrum.txt\n",
      "jhu.nicolet.mineral.carbonate.none.fine.dolomi3.spectrum.txt\n"
     ]
    }
   ],
   "source": [
    "# Example Files\n",
    "directory = \"C:\\\\Users\\\\Susan\\\\Documents\\\\GitHub\\\\ASTER-Spectral-Library\\\\\"\n",
    "filename = \"jhu.becknic.soil.alfisol.paleustalf.coarse.87P2376.spectrum.txt\"\n",
    "outDir = directory + \"Output Spectral Libraries\\\\\"\n",
    "\n",
    "convert_aster_files(directory, outDir)"
   ]
  },
  {
   "cell_type": "code",
   "execution_count": null,
   "metadata": {
    "collapsed": true
   },
   "outputs": [],
   "source": []
  },
  {
   "cell_type": "code",
   "execution_count": null,
   "metadata": {
    "collapsed": true
   },
   "outputs": [],
   "source": []
  }
 ],
 "metadata": {
  "kernelspec": {
   "display_name": "Python 2",
   "language": "python",
   "name": "python2"
  },
  "language_info": {
   "codemirror_mode": {
    "name": "ipython",
    "version": 2
   },
   "file_extension": ".py",
   "mimetype": "text/x-python",
   "name": "python",
   "nbconvert_exporter": "python",
   "pygments_lexer": "ipython2",
   "version": "2.7.14"
  }
 },
 "nbformat": 4,
 "nbformat_minor": 2
}
