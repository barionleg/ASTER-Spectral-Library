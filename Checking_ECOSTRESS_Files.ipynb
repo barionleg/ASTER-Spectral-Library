{
 "cells": [
  {
   "cell_type": "markdown",
   "metadata": {},
   "source": [
    "This code will run through all ECOSTRESS files in a directory to check that they are correctly formatted and there are no errors in metadata.\n",
    "Susan Meerdink\n",
    "Created on: 10/20/17"
   ]
  },
  {
   "cell_type": "code",
   "execution_count": 1,
   "metadata": {},
   "outputs": [],
   "source": [
    "# Import Functions\n",
    "import os\n",
    "import glob\n",
    "import numpy as np"
   ]
  },
  {
   "cell_type": "code",
   "execution_count": 2,
   "metadata": {},
   "outputs": [],
   "source": [
    "def check_format(filename):\n",
    "    \"\"\"\n",
    "    This function will check a single file to make sure that it formatted correctly.\n",
    "    Parameters:\n",
    "    -----------\n",
    "    1) filename: file to be read in and checked\n",
    "    \n",
    "    Outputs:\n",
    "    --------\n",
    "    1) error: integer that designates the first row that has an error. If not errors it will return -9999\n",
    "        -9999: everything is ok with the file, no errors found\n",
    "    2) message: a string saying what is wrong\n",
    "    \"\"\"\n",
    "    inFile = open(filename, 'rb')  # Open ECOSTRESS file\n",
    "    error = -9999\n",
    "    message = 'Everything is correct'\n",
    "    names = ['Name', 'Type', 'Class', ' ', ' ', 'Sample No.', \n",
    "             'Owner','Wavelength Range','Origin','Collection Date', \n",
    "             'Description', 'Measurement','First Column','Second Column',\n",
    "             'X Units','Y Units', 'First X Value', 'Last X Value', \n",
    "             'Number of X Values', 'Additional Information', ' ']\n",
    "    values = np.array([0, 0, 0])  # Array to hold values from metadata of first x value, last x value, and number of x values \n",
    "    wave = []  # array that will hold wavelengths\n",
    "    lines = inFile.readlines()  # Read in file\n",
    "    \n",
    "    # Loop through metadata and check\n",
    "    for i in range(0, len(lines)-1):\n",
    "        # Check that metadata is in order and present\n",
    "        if i in [0, 1, 2, 5, 6, 7, 8, 9, 10, 11, 12, 13, 14, 15, 16, 17, 18, 19]: \n",
    "            if names[i] not in lines[i]:\n",
    "                error = i + 1\n",
    "                message = 'Metadata field is not correct'\n",
    "                break\n",
    "        if i == 3:\n",
    "            if 'Subclass' not in lines[i] and 'Genus' not in lines[i]:\n",
    "                error = i + 1\n",
    "                message = 'Does not have Subclass or Genus as metadata field'\n",
    "                break\n",
    "        if i == 4:\n",
    "            if 'Particle Size' not in lines[i] and 'Species' not in lines[i]:\n",
    "                error = i + 1\n",
    "                message = 'Does not have Particle Size or Species as metadata field'\n",
    "                break\n",
    "        if i == 14:\n",
    "            if 'micro' in lines[i] and float(lines[22].split()[0]) > 200:\n",
    "                error = i + 1\n",
    "                message = 'Wavelengths are not in micrometers'\n",
    "        if i == 18:\n",
    "            if len(lines) - 21 != int(lines[i].split(':')[1]):\n",
    "                error = i + 1\n",
    "                message = \"Correct length of spectra is %i\" %(len(lines) - 21)\n",
    "                break\n",
    "        if i == 21:  # Check to make sure first x value matches spectra\n",
    "            if lines[i].split()[0].strip() not in lines[16].split(':')[1].strip() and lines[16].split(':')[1].strip() not in lines[i].split()[0].strip():\n",
    "                error = i + 1\n",
    "                message = 'The First X value does not match spectra first x value'\n",
    "                break\n",
    "        if i == len(lines):  # Check to make sure the last x value matches spectra\n",
    "            if lines[len(lines)].split()[0].strip() not in lines[17].split(':')[1].strip() and lines[17].split(':')[1].strip() not in lines[len(lines)].split()[0].strip(): \n",
    "                error = i + 1\n",
    "                message = 'The last X value does not match spectra last x value'\n",
    "                break\n",
    "        if i > 20:\n",
    "            wave.append(float(lines[i].split()[0].strip()))\n",
    "    \n",
    "    # Check if there are duplicate wavelengths - this happens when the original files don't have enough decimal points.\n",
    "    if len(wave) != len(set(wave)):\n",
    "        error = 21\n",
    "        message = 'Duplicate wavelengths present'\n",
    "    \n",
    "    # Check if wavelengths are sorted\n",
    "    if sorted(wave) != wave and sorted(wave, reverse=True) != wave:\n",
    "        error = 21\n",
    "        message = 'Wavelengths are not in order'\n",
    "        \n",
    "    return error, message"
   ]
  },
  {
   "cell_type": "code",
   "execution_count": 3,
   "metadata": {},
   "outputs": [],
   "source": [
    "def check_files(currentDir):\n",
    "    \"\"\"\n",
    "    This function finds all the ASTER text files in a folder and calls the \n",
    "    write_ecostress_file to format them into ECOSTRESS text files.\n",
    "    \n",
    "    Parameters:\n",
    "    -----------\n",
    "    1) currentDir: a file path for the folder that input file is located\n",
    "    \"\"\"\n",
    "    os.chdir(currentDir) # Set this to the current directory\n",
    "    outfile = open('file_errors.csv', 'w')  # open file\n",
    "    correct = 0\n",
    "    error = 0\n",
    "    \n",
    "    # Find all the ASTER text files in directory\n",
    "    for file in glob.glob(\"*.spectrum.txt\"):\n",
    "        # print(\"Processing %s\" %file)\n",
    "        if \"..\" in file:\n",
    "            check = 0\n",
    "            message = \"Error in filename\"\n",
    "            outfile.write(file + ',' + str(check) + ',' + message + '\\n')\n",
    "            error += 1\n",
    "        else:\n",
    "            check, message = check_format(file)\n",
    "            if check == -9999:\n",
    "                correct += 1\n",
    "            else:\n",
    "                outfile.write(file + ',' + str(check) + ',' + message + '\\n')\n",
    "                error += 1\n",
    "                continue\n",
    "            \n",
    "    outfile.close()\n",
    "    print(\"%i ECOSTRESS files are correctly formatted\" %correct)\n",
    "    print(\"%i ECOSTRESS files have errors\" %error)"
   ]
  },
  {
   "cell_type": "code",
   "execution_count": 4,
   "metadata": {},
   "outputs": [
    {
     "name": "stdout",
     "output_type": "stream",
     "text": [
      "6 ECOSTRESS files are correctly formatted\n",
      "0 ECOSTRESS files have errors\n"
     ]
    }
   ],
   "source": [
    "# Example Files\n",
    "directory = \"C:\\\\Users\\\\Susan\\\\Documents\\\\GitHub\\\\ASTER-Spectral-Library\\\\\"\n",
    "inDir = directory + \"Example Outputs\\\\\"\n",
    "check_files(inDir)"
   ]
  },
  {
   "cell_type": "code",
   "execution_count": 18,
   "metadata": {},
   "outputs": [
    {
     "name": "stdout",
     "output_type": "stream",
     "text": [
      "2880 ECOSTRESS files are correctly formatted\n",
      "0 ECOSTRESS files have errors\n"
     ]
    }
   ],
   "source": [
    "# Check ECOSTRESS Files\n",
    "inDir = \"F:\\\\Dropbox\\Analysis\\\\ECOSTRESS Spectral Library\\\\ECOSTRESS Spectral Library Files\\\\\"\n",
    "check_files(inDir)"
   ]
  },
  {
   "cell_type": "code",
   "execution_count": 6,
   "metadata": {},
   "outputs": [
    {
     "name": "stdout",
     "output_type": "stream",
     "text": [
      "['manmade' 'meteorites' 'mineral' 'rock' 'soil' 'water']\n",
      "There are 7 in the manmade\n",
      "['concrete' 'generalconstructionmaterial' 'reflectancetarget' 'road'\n",
      " 'roofingmaterial']\n",
      "['brick' 'cementcinderblock' 'cinder' 'constructionconcrete' 'glas'\n",
      " 'marble' 'metal' 'none' 'paint' 'pavingasphalt' 'pavingconcrete'\n",
      " 'roofingpaper' 'roofingshingle' 'rubber' 'shingle' 'tar' 'tile' 'wood']\n",
      "['solid']\n",
      "There are 7 in the meteorites\n",
      "['achondrite' 'anomalou' 'carbonaceouschondrite' 'enstatitechondrite'\n",
      " 'ordinarychondrite']\n",
      "['aubrite' 'c4' 'ci' 'cm2' 'co' 'co3' 'cv3' 'diogenite' 'e6' 'eucrite' 'h3'\n",
      " 'h4' 'h5' 'h6' 'howardite' 'l3' 'l5' 'l6' 'll6' 'none' 'shergottite'\n",
      " 'urelite']\n",
      "['fine']\n",
      "There are 7 in the mineral\n",
      "['arsenate' 'borate' 'carbonate' 'chloride' 'element' 'halide' 'hydroxide'\n",
      " 'oxide' 'phosphate' 'silicate' 'sulfate' 'sulfide' 'tungstate']\n",
      "['cyclosilicate' 'inosilicate' 'nesosilicate' 'none' 'phyllosilicate'\n",
      " 'sorosilicate' 'tectosilicate']\n",
      "['coarse' 'fine' 'medium' 'none' 'solid']\n",
      "There are 7 in the rock\n",
      "['igneous' 'intermediate' 'metamorphic' 'sedimentary']\n",
      "['alkalic' 'arenaceou' 'argillaceou' 'basic' 'breccia' 'carbonate'\n",
      " 'chemicalprecipitate' 'conglomerate' 'dolomite' 'felsic' 'feslic' 'gneis'\n",
      " 'hornfel' 'intermediate' 'limestone' 'mafic' 'marble' 'phyllite'\n",
      " 'quartzite' 'sandstone' 'schist' 'serpentinite' 'shale' 'siliceou'\n",
      " 'siltstone' 'slate' 'travertine' 'ultramafic']\n",
      "['coarse' 'fine' 'solid']\n",
      "There are 7 in the soil\n",
      "['alfisol' 'aridisol' 'entisol' 'inceptisol' 'lunar' 'mollisol' 'spodosol'\n",
      " 'utisol' 'vertisol']\n",
      "['agialboll' 'agriudoll' 'argiustoll' 'calciorthid' 'camborthid'\n",
      " 'chromoxerert' 'cryoboroll' 'cryohumod' 'cryumbrept' 'dystrochrept'\n",
      " 'fragiboralf' 'gypsiorthid' 'haplaquoll' 'haplargid' 'haploxeralf'\n",
      " 'hapludoll' 'hapludult' 'haplumbrept' 'haplustalf' 'haplustall' 'highland'\n",
      " 'maria' 'none' 'paleustalf' 'paleustoll' 'plaggept' 'quartzipsamment'\n",
      " 'salorthid' 'torripsamment' 'transitional' 'ustifluvent' 'ustocrept'\n",
      " 'xerumbrept']\n",
      "['fine' 'none' 'unsorted']\n",
      "There are 7 in the water\n",
      "['distilledwater' 'frost' 'ice' 'seawater' 'snow' 'tapwater']\n",
      "['coarsegranular' 'finegranular' 'mediumgranular' 'none']\n",
      "['coarse' 'fine' 'liquid' 'medium' 'solid']\n"
     ]
    }
   ],
   "source": [
    "# Get all Files\n",
    "os.chdir(inDir)\n",
    "allFiles = glob.glob(\"*.spectrum.txt\")\n",
    "allType = np.chararray([len(allFiles),1], itemsize=50)\n",
    "allClass = np.chararray([len(allFiles),1], itemsize=50)\n",
    "allSubclass = np.chararray([len(allFiles),1], itemsize=50)\n",
    "allParticle = np.chararray([len(allFiles),1], itemsize=50)\n",
    "allWave = np.chararray([len(allFiles),1], itemsize=50)\n",
    "allSample = np.chararray([len(allFiles),1], itemsize=50)\n",
    "allOwner = np.chararray([len(allFiles),1], itemsize=50)\n",
    "allInstr = np.chararray([len(allFiles),1], itemsize=50)\n",
    "\n",
    "for i in range(0, len(allFiles)):\n",
    "    allType[i,0] = allFiles[i].split('.')[0]\n",
    "    allClass[i] = allFiles[i].split('.')[1]\n",
    "    allSubclass[i] = allFiles[i].split('.')[2]\n",
    "    allParticle[i] = allFiles[i].split('.')[3]\n",
    "    allWave[i] = allFiles[i].split('.')[4]\n",
    "    allSample[i] = allFiles[i].split('.')[5]\n",
    "    allOwner[i] = allFiles[i].split('.')[6]\n",
    "    allInstr[i] = allFiles[i].split('.')[7]\n",
    "\n",
    "u, indices = np.unique(allType, return_inverse=True)\n",
    "print(u)\n",
    "\n",
    "for i in range(0, len(u)):\n",
    "    print('There are %i in the %s' %(len(u[0]), u[i]))\n",
    "    print(np.unique(allClass[np.where(indices == i)]))\n",
    "    print(np.unique(allSubclass[np.where(indices == i)]))\n",
    "    print(np.unique(allParticle[np.where(indices == i)]))"
   ]
  },
  {
   "cell_type": "code",
   "execution_count": 7,
   "metadata": {},
   "outputs": [],
   "source": [
    "for i in allFiles:\n",
    "    if 'cycloilicate' in i:\n",
    "        print(i)"
   ]
  },
  {
   "cell_type": "code",
   "execution_count": null,
   "metadata": {
    "collapsed": true
   },
   "outputs": [],
   "source": []
  }
 ],
 "metadata": {
  "kernelspec": {
   "display_name": "Python 2",
   "language": "python",
   "name": "python2"
  },
  "language_info": {
   "codemirror_mode": {
    "name": "ipython",
    "version": 2
   },
   "file_extension": ".py",
   "mimetype": "text/x-python",
   "name": "python",
   "nbconvert_exporter": "python",
   "pygments_lexer": "ipython2",
   "version": "2.7.14"
  }
 },
 "nbformat": 4,
 "nbformat_minor": 2
}
